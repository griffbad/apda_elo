{
 "cells": [
  {
   "cell_type": "code",
   "execution_count": 439,
   "id": "b4b42d51-9bc8-48b8-b72d-9210e6a3efc2",
   "metadata": {},
   "outputs": [],
   "source": [
    "import pandas as pd\n",
    "import numpy as np\n",
    "\n",
    "import matplotlib.pyplot as plt\n",
    "\n",
    "from pypdf import PdfReader\n",
    "from tabula import read_pdf\n",
    "from tabulate import tabulate\n",
    "\n",
    "from tqdm import tqdm\n",
    "import os \n",
    "\n",
    "from multielo import MultiElo, Player, Tracker"
   ]
  },
  {
   "cell_type": "code",
   "execution_count": 440,
   "id": "d6b0217b-56ae-4736-a336-e935e51fed22",
   "metadata": {},
   "outputs": [],
   "source": [
    "def sanitize(i):\n",
    "    i = i.replace('\\r', '')\n",
    "    i = i.replace('- ', '-')\n",
    "    i = i.replace('? ', '?')\n",
    "    i = i.replace('( ', '(')\n",
    "    i = i.replace(' )', ')')\n",
    "    i = i.replace(' ̄', '-')\n",
    "    i = i.replace('¯', '-')\n",
    "    i = i.replace(chr(772), '-')\n",
    "    i = i.replace(chr(64257), 'fi')\n",
    "    i = i.replace(\" \", \"\")\n",
    "    return i"
   ]
  },
  {
   "cell_type": "code",
   "execution_count": 441,
   "id": "b8de3a1b-7595-4e10-b324-67907cb9fb4d",
   "metadata": {},
   "outputs": [],
   "source": [
    "def read_tabs(pdfs):\n",
    "    tab_dict_list = []\n",
    "    for pdf in tqdm(pdfs):\n",
    "        reader = PdfReader(pdf)\n",
    "        team_names = []\n",
    "        number_of_pages = len(reader.pages)\n",
    "        for i in np.arange(number_of_pages):\n",
    "            page = reader.pages[int(i)]\n",
    "            text = page.extract_text()\n",
    "            team_names+=[x[1:x.find('\\n')] for x in text.split(\"Team:\")[1:]]\n",
    "            #print(team_names)\n",
    "            team_names = [sanitize(x) for x in team_names]\n",
    "            #print(team_names)\n",
    "            #reads table from pdf file\n",
    "        df = read_pdf(pdf, pages=\"all\", lattice=True) #address| of pdf file\n",
    "        tab_dict = dict(zip(team_names, df))\n",
    "        new_keys=[]\n",
    "        for i in list(tab_dict.keys()):\n",
    "            if 'R G/O' in i:\n",
    "                new_keys.append(i[0:i.find('R G/O')-1])\n",
    "            elif 'RG/OW/L' in i:\n",
    "                new_keys.append(i[0:i.find('RG/OW/L')])\n",
    "            else:\n",
    "                new_keys.append(i)\n",
    "        tab_dict = dict(zip(new_keys, list(tab_dict.values())))\n",
    "        tab_dict_list.append(tab_dict)\n",
    "    return tab_dict_list"
   ]
  },
  {
   "cell_type": "code",
   "execution_count": 442,
   "id": "ea8da915-30c9-4ef2-b358-43bd91ff5037",
   "metadata": {},
   "outputs": [],
   "source": [
    "def read_tab(pdf):\n",
    "    if isinstance(pdf, list):\n",
    "        return read_tabs(pdf)\n",
    "    reader = PdfReader(pdf)\n",
    "    team_names = []\n",
    "    number_of_pages = len(reader.pages)\n",
    "    for i in np.arange(number_of_pages):\n",
    "        page = reader.pages[int(i)]\n",
    "        text = page.extract_text()\n",
    "        team_names+=[x[1:x.find('\\n')] for x in text.split(\"Team:\")[1:]]\n",
    "        #print(team_names)\n",
    "        team_names = [sanitize(x) for x in team_names]\n",
    "        #print(team_names)\n",
    "        #reads table from pdf file\n",
    "    df = read_pdf(pdf, pages=\"all\", lattice=True) #address| of pdf file\n",
    "    tab_dict = dict(zip(team_names, df))\n",
    "    new_keys = []\n",
    "    for i in list(tab_dict.keys()):\n",
    "        if 'R G/O' in i:\n",
    "            new_keys.append(sanitize(i[0:i.find('R G/O')-1]))\n",
    "        elif 'RG/OW/L' in i:\n",
    "            new_keys.append(sanitize(i[0:i.find('RG/OW/L')-1]))\n",
    "        else:\n",
    "            new_keys.append(sanitize(i))\n",
    "    tab_dict = dict(zip(new_keys, list(tab_dict.values())))\n",
    "            \n",
    "    return tab_dict"
   ]
  },
  {
   "cell_type": "code",
   "execution_count": 446,
   "id": "8063a8a4-c02d-47cd-89f1-3c46c4136f7a",
   "metadata": {},
   "outputs": [],
   "source": [
    "def get_rates(td):\n",
    "    team_names_dic = {}\n",
    "    name_ranks_dic = {}\n",
    "    n_rounds = 0\n",
    "    for i in list(td.keys()):\n",
    "        test = td[i]\n",
    "        #print(test)\n",
    "        test.dropna(axis=0, how='all', inplace=True)\n",
    "        test = test[test.columns[~test.columns.str.contains('Unnamed')]]\n",
    "        if len(test)==0:\n",
    "            continue\n",
    "        p1 = test.columns[5]\n",
    "        p1_name = p1[:-4]\n",
    "        p1_age = p1[-2:-1]\n",
    "        p1_name = p1_name.replace('\\r', ' ')\n",
    "        p1_first = p1_name.split(\" \")[0]\n",
    "        p1_second = ''.join(p1_name.split(\" \")[1:])\n",
    "        p1_ranks = [eval(x)[1] for x in list(test[p1].fillna('(-1,99)'))[:-1]]\n",
    "\n",
    "        p2 = test.columns[6]\n",
    "        p2_name = p2[:-4]\n",
    "        p2_age = p2[-2:-1]\n",
    "        p2_name = p2_name.replace('\\r', ' ')\n",
    "        p2_first = p2_name.split(\" \")[0]\n",
    "        p2_second = ''.join(p2_name.split(\" \")[1:])\n",
    "\n",
    "        p2_ranks = [eval(x)[1] for x in list(test[p2].fillna('(-1,99)'))[:-1]]\n",
    "        i = sanitize(i)\n",
    "        team_names_dic[i] = (p1_first+' '+p1_second, p2_first+' '+p2_second)\n",
    "        name_ranks_dic[p1_first+' '+p1_second] = p1_ranks\n",
    "        name_ranks_dic[p2_first+' '+p2_second] = p2_ranks\n",
    "    n_rounds = np.median([len(x) for x in list(name_ranks_dic.values())])\n",
    "\n",
    "    rounds = []\n",
    "    for i in list(td.keys()):\n",
    "        #print(i)\n",
    "        test = td[i]\n",
    "        test.dropna(axis=0, how='all', inplace=True)\n",
    "        #print(test)\n",
    "        if len(test)==0:\n",
    "            continue\n",
    "        oppos = test[test.columns[3]].dropna()[:-1]\n",
    "        test = test[test.columns[~test.columns.str.contains('Unnamed')]]\n",
    "        if len(oppos)==n_rounds:\n",
    "            #print(oppos)\n",
    "            #print(oppos)\n",
    "            oppos = [sanitize(x) for x in oppos]\n",
    "            unq_rounds = [(i,x) for x in oppos if (x,i) not in rounds]\n",
    "            rounds+= unq_rounds\n",
    "    \n",
    "    ranks_df = pd.DataFrame(columns=['date', '1st', '2nd', '3rd', '4th'])\n",
    "    date_list = []\n",
    "    rank_names = []\n",
    "    date_dic = dict(zip(np.unique(rounds), [0]*len(np.unique(rounds))))\n",
    "    bad_count = 0\n",
    "    #print(rounds)\n",
    "    for r in rounds:\n",
    "        #print(repr(r))\n",
    "        date_dic[r[0]]+=1\n",
    "        date_dic[r[1]]+=1\n",
    "        rd = max(date_dic[r[0]], date_dic[r[1]])\n",
    "        date_list.append(rd)\n",
    "        #print(r[1])\n",
    "        debaters = np.append(team_names_dic[r[0]], team_names_dic[r[1]])\n",
    "        #print(debaters)\n",
    "        #print(rd)\n",
    "        #print([name_ranks_dic[x] for x in debaters])\n",
    "#         print(rd)\n",
    "#         print([name_ranks_dic[x] for x in debaters])\n",
    "#         print(r[0])\n",
    "#         print(r[1])\n",
    "        ranks = [name_ranks_dic[x][rd-1] for x in debaters]\n",
    "        deb_in_rank = [x for _, x in sorted(zip(ranks, debaters))]\n",
    "\n",
    "        rank_names.append(deb_in_rank)\n",
    "    ranks_df.date=date_list\n",
    "    ranks_df[ranks_df.columns[1:]]=rank_names\n",
    "    return ranks_df"
   ]
  },
  {
   "cell_type": "code",
   "execution_count": 444,
   "id": "b79b8923-2745-46a2-bf5f-073f6f585435",
   "metadata": {},
   "outputs": [],
   "source": [
    "\n",
    "pdfs = ['./all_tabs/to_use/'+x for x in np.sort(os.listdir('./all_tabs/to_use/'))[1:]]"
   ]
  },
  {
   "cell_type": "code",
   "execution_count": 456,
   "id": "d6f26df2-f865-4b84-b2d5-9f960ee01623",
   "metadata": {
    "tags": []
   },
   "outputs": [
    {
     "name": "stderr",
     "output_type": "stream",
     "text": [
      " 10%|████▍                                       | 1/10 [00:00<00:06,  1.30it/s]Got stderr: Mar 07, 2023 10:42:04 AM org.apache.pdfbox.pdmodel.font.PDSimpleFont toUnicode\n",
      "WARNING: No Unicode mapping for 38 (40) in font QIGZRJ+.SFNSText\n",
      "\n",
      " 90%|███████████████████████████████████████▌    | 9/10 [00:10<00:01,  1.33s/it]Got stderr: Mar 07, 2023 10:42:14 AM org.apache.fontbox.ttf.CmapSubtable processSubtype4\n",
      "WARNING: cmap format 4 subtable is empty\n",
      "Mar 07, 2023 10:42:14 AM org.apache.fontbox.ttf.CmapSubtable processSubtype4\n",
      "WARNING: cmap format 4 subtable is empty\n",
      "\n",
      "100%|███████████████████████████████████████████| 10/10 [00:11<00:00,  1.14s/it]\n"
     ]
    }
   ],
   "source": [
    "td = read_tab(list(pdfs))"
   ]
  },
  {
   "cell_type": "code",
   "execution_count": 447,
   "id": "51443dfb-ca1d-467f-9382-f1dd6fb92abc",
   "metadata": {},
   "outputs": [
    {
     "name": "stderr",
     "output_type": "stream",
     "text": [
      " 30%|█████████████▏                              | 3/10 [00:00<00:00, 26.85it/s]"
     ]
    },
    {
     "name": "stdout",
     "output_type": "stream",
     "text": [
      "1\n",
      "4\n"
     ]
    },
    {
     "name": "stderr",
     "output_type": "stream",
     "text": [
      "100%|███████████████████████████████████████████| 10/10 [00:00<00:00, 12.12it/s]"
     ]
    },
    {
     "name": "stdout",
     "output_type": "stream",
     "text": [
      "8\n"
     ]
    },
    {
     "name": "stderr",
     "output_type": "stream",
     "text": [
      "\n"
     ]
    }
   ],
   "source": [
    "rates_l = []\n",
    "for n,i in enumerate(tqdm(td)):\n",
    "#     rates_l.append(get_rates(i))\n",
    "    try:\n",
    "        rates_l.append(get_rates(i))\n",
    "    except:\n",
    "        print(n)"
   ]
  },
  {
   "cell_type": "code",
   "execution_count": 458,
   "id": "e50812ad-3905-42f5-83b2-15bfbe33e40f",
   "metadata": {},
   "outputs": [
    {
     "ename": "ValueError",
     "evalue": "Columns must be same length as key",
     "output_type": "error",
     "traceback": [
      "\u001b[0;31m---------------------------------------------------------------------------\u001b[0m",
      "\u001b[0;31mValueError\u001b[0m                                Traceback (most recent call last)",
      "Cell \u001b[0;32mIn[458], line 1\u001b[0m\n\u001b[0;32m----> 1\u001b[0m \u001b[43mget_rates\u001b[49m\u001b[43m(\u001b[49m\u001b[43mtd\u001b[49m\u001b[43m[\u001b[49m\u001b[38;5;241;43m4\u001b[39;49m\u001b[43m]\u001b[49m\u001b[43m)\u001b[49m\n",
      "Cell \u001b[0;32mIn[446], line 77\u001b[0m, in \u001b[0;36mget_rates\u001b[0;34m(td)\u001b[0m\n\u001b[1;32m     75\u001b[0m     rank_names\u001b[38;5;241m.\u001b[39mappend(deb_in_rank)\n\u001b[1;32m     76\u001b[0m ranks_df\u001b[38;5;241m.\u001b[39mdate\u001b[38;5;241m=\u001b[39mdate_list\n\u001b[0;32m---> 77\u001b[0m \u001b[43mranks_df\u001b[49m\u001b[43m[\u001b[49m\u001b[43mranks_df\u001b[49m\u001b[38;5;241;43m.\u001b[39;49m\u001b[43mcolumns\u001b[49m\u001b[43m[\u001b[49m\u001b[38;5;241;43m1\u001b[39;49m\u001b[43m:\u001b[49m\u001b[43m]\u001b[49m\u001b[43m]\u001b[49m\u001b[38;5;241m=\u001b[39mrank_names\n\u001b[1;32m     78\u001b[0m \u001b[38;5;28;01mreturn\u001b[39;00m ranks_df\n",
      "File \u001b[0;32m~/opt/anaconda3/envs/griff/lib/python3.9/site-packages/pandas/core/frame.py:3968\u001b[0m, in \u001b[0;36mDataFrame.__setitem__\u001b[0;34m(self, key, value)\u001b[0m\n\u001b[1;32m   3966\u001b[0m     \u001b[38;5;28mself\u001b[39m\u001b[38;5;241m.\u001b[39m_setitem_frame(key, value)\n\u001b[1;32m   3967\u001b[0m \u001b[38;5;28;01melif\u001b[39;00m \u001b[38;5;28misinstance\u001b[39m(key, (Series, np\u001b[38;5;241m.\u001b[39mndarray, \u001b[38;5;28mlist\u001b[39m, Index)):\n\u001b[0;32m-> 3968\u001b[0m     \u001b[38;5;28;43mself\u001b[39;49m\u001b[38;5;241;43m.\u001b[39;49m\u001b[43m_setitem_array\u001b[49m\u001b[43m(\u001b[49m\u001b[43mkey\u001b[49m\u001b[43m,\u001b[49m\u001b[43m \u001b[49m\u001b[43mvalue\u001b[49m\u001b[43m)\u001b[49m\n\u001b[1;32m   3969\u001b[0m \u001b[38;5;28;01melif\u001b[39;00m \u001b[38;5;28misinstance\u001b[39m(value, DataFrame):\n\u001b[1;32m   3970\u001b[0m     \u001b[38;5;28mself\u001b[39m\u001b[38;5;241m.\u001b[39m_set_item_frame_value(key, value)\n",
      "File \u001b[0;32m~/opt/anaconda3/envs/griff/lib/python3.9/site-packages/pandas/core/frame.py:4027\u001b[0m, in \u001b[0;36mDataFrame._setitem_array\u001b[0;34m(self, key, value)\u001b[0m\n\u001b[1;32m   4024\u001b[0m     \u001b[38;5;28;01mreturn\u001b[39;00m \u001b[38;5;28mself\u001b[39m\u001b[38;5;241m.\u001b[39m_setitem_array(key, value)\n\u001b[1;32m   4026\u001b[0m \u001b[38;5;28;01melse\u001b[39;00m:\n\u001b[0;32m-> 4027\u001b[0m     \u001b[38;5;28;43mself\u001b[39;49m\u001b[38;5;241;43m.\u001b[39;49m\u001b[43m_iset_not_inplace\u001b[49m\u001b[43m(\u001b[49m\u001b[43mkey\u001b[49m\u001b[43m,\u001b[49m\u001b[43m \u001b[49m\u001b[43mvalue\u001b[49m\u001b[43m)\u001b[49m\n",
      "File \u001b[0;32m~/opt/anaconda3/envs/griff/lib/python3.9/site-packages/pandas/core/frame.py:4046\u001b[0m, in \u001b[0;36mDataFrame._iset_not_inplace\u001b[0;34m(self, key, value)\u001b[0m\n\u001b[1;32m   4044\u001b[0m \u001b[38;5;28;01mif\u001b[39;00m \u001b[38;5;28mself\u001b[39m\u001b[38;5;241m.\u001b[39mcolumns\u001b[38;5;241m.\u001b[39mis_unique:\n\u001b[1;32m   4045\u001b[0m     \u001b[38;5;28;01mif\u001b[39;00m np\u001b[38;5;241m.\u001b[39mshape(value)[\u001b[38;5;241m-\u001b[39m\u001b[38;5;241m1\u001b[39m] \u001b[38;5;241m!=\u001b[39m \u001b[38;5;28mlen\u001b[39m(key):\n\u001b[0;32m-> 4046\u001b[0m         \u001b[38;5;28;01mraise\u001b[39;00m \u001b[38;5;167;01mValueError\u001b[39;00m(\u001b[38;5;124m\"\u001b[39m\u001b[38;5;124mColumns must be same length as key\u001b[39m\u001b[38;5;124m\"\u001b[39m)\n\u001b[1;32m   4048\u001b[0m     \u001b[38;5;28;01mfor\u001b[39;00m i, col \u001b[38;5;129;01min\u001b[39;00m \u001b[38;5;28menumerate\u001b[39m(key):\n\u001b[1;32m   4049\u001b[0m         \u001b[38;5;28mself\u001b[39m[col] \u001b[38;5;241m=\u001b[39m igetitem(value, i)\n",
      "\u001b[0;31mValueError\u001b[0m: Columns must be same length as key"
     ]
    }
   ],
   "source": [
    "get_rates(td[4])"
   ]
  },
  {
   "cell_type": "code",
   "execution_count": 448,
   "id": "f38664dd-f4a0-43d3-94b4-e752f72484d6",
   "metadata": {},
   "outputs": [],
   "source": [
    "for n,i in enumerate(rates_l):\n",
    "    i.date=[str(n)+\"_\"+str(x) for x in i.date]"
   ]
  },
  {
   "cell_type": "code",
   "execution_count": 449,
   "id": "4ea37d0d-53ef-42f1-b3cb-03bb4034dfb3",
   "metadata": {},
   "outputs": [],
   "source": [
    "all_rates = pd.concat(rates_l)\n",
    "all_rates.replace('Griffin Badlamente', 'Griffin Badalamente', inplace=True)"
   ]
  },
  {
   "cell_type": "code",
   "execution_count": 450,
   "id": "67adbcda-62f6-4715-bba3-f1f3ff800f1c",
   "metadata": {},
   "outputs": [],
   "source": [
    "tracker = Tracker()\n",
    "tracker.process_data(all_rates)"
   ]
  },
  {
   "cell_type": "code",
   "execution_count": 451,
   "id": "76273fd5-eab8-4b20-aa36-47571f836953",
   "metadata": {},
   "outputs": [],
   "source": [
    "rates = tracker.get_current_ratings()"
   ]
  },
  {
   "cell_type": "code",
   "execution_count": 454,
   "id": "134d02a9-82c6-461f-a026-2f3002bab0d9",
   "metadata": {},
   "outputs": [
    {
     "data": {
      "text/html": [
       "<div>\n",
       "<style scoped>\n",
       "    .dataframe tbody tr th:only-of-type {\n",
       "        vertical-align: middle;\n",
       "    }\n",
       "\n",
       "    .dataframe tbody tr th {\n",
       "        vertical-align: top;\n",
       "    }\n",
       "\n",
       "    .dataframe thead th {\n",
       "        text-align: right;\n",
       "    }\n",
       "</style>\n",
       "<table border=\"1\" class=\"dataframe\">\n",
       "  <thead>\n",
       "    <tr style=\"text-align: right;\">\n",
       "      <th></th>\n",
       "      <th>rank</th>\n",
       "      <th>player_id</th>\n",
       "      <th>n_games</th>\n",
       "      <th>rating</th>\n",
       "    </tr>\n",
       "  </thead>\n",
       "  <tbody>\n",
       "    <tr>\n",
       "      <th>0</th>\n",
       "      <td>1</td>\n",
       "      <td>Anish Welde</td>\n",
       "      <td>10</td>\n",
       "      <td>1169.003912</td>\n",
       "    </tr>\n",
       "    <tr>\n",
       "      <th>1</th>\n",
       "      <td>2</td>\n",
       "      <td>Parker Kelly</td>\n",
       "      <td>10</td>\n",
       "      <td>1161.901373</td>\n",
       "    </tr>\n",
       "    <tr>\n",
       "      <th>2</th>\n",
       "      <td>3</td>\n",
       "      <td>Nicole Kagan</td>\n",
       "      <td>15</td>\n",
       "      <td>1141.349468</td>\n",
       "    </tr>\n",
       "    <tr>\n",
       "      <th>3</th>\n",
       "      <td>4</td>\n",
       "      <td>Austin Goldsmith-Lachut</td>\n",
       "      <td>10</td>\n",
       "      <td>1136.452953</td>\n",
       "    </tr>\n",
       "    <tr>\n",
       "      <th>4</th>\n",
       "      <td>5</td>\n",
       "      <td>Paloma O'Connor</td>\n",
       "      <td>15</td>\n",
       "      <td>1132.054286</td>\n",
       "    </tr>\n",
       "    <tr>\n",
       "      <th>...</th>\n",
       "      <td>...</td>\n",
       "      <td>...</td>\n",
       "      <td>...</td>\n",
       "      <td>...</td>\n",
       "    </tr>\n",
       "    <tr>\n",
       "      <th>335</th>\n",
       "      <td>336</td>\n",
       "      <td>Sid Gupta</td>\n",
       "      <td>5</td>\n",
       "      <td>891.184737</td>\n",
       "    </tr>\n",
       "    <tr>\n",
       "      <th>336</th>\n",
       "      <td>337</td>\n",
       "      <td>Joe Cox</td>\n",
       "      <td>15</td>\n",
       "      <td>882.135295</td>\n",
       "    </tr>\n",
       "    <tr>\n",
       "      <th>337</th>\n",
       "      <td>338</td>\n",
       "      <td>Mehul Agarwal</td>\n",
       "      <td>10</td>\n",
       "      <td>881.409543</td>\n",
       "    </tr>\n",
       "    <tr>\n",
       "      <th>338</th>\n",
       "      <td>339</td>\n",
       "      <td>Michel Nehme</td>\n",
       "      <td>15</td>\n",
       "      <td>878.638407</td>\n",
       "    </tr>\n",
       "    <tr>\n",
       "      <th>339</th>\n",
       "      <td>340</td>\n",
       "      <td>Tangya Tan</td>\n",
       "      <td>14</td>\n",
       "      <td>790.420395</td>\n",
       "    </tr>\n",
       "  </tbody>\n",
       "</table>\n",
       "<p>340 rows × 4 columns</p>\n",
       "</div>"
      ],
      "text/plain": [
       "     rank                player_id  n_games       rating\n",
       "0       1              Anish Welde       10  1169.003912\n",
       "1       2             Parker Kelly       10  1161.901373\n",
       "2       3             Nicole Kagan       15  1141.349468\n",
       "3       4  Austin Goldsmith-Lachut       10  1136.452953\n",
       "4       5          Paloma O'Connor       15  1132.054286\n",
       "..    ...                      ...      ...          ...\n",
       "335   336                Sid Gupta        5   891.184737\n",
       "336   337                  Joe Cox       15   882.135295\n",
       "337   338            Mehul Agarwal       10   881.409543\n",
       "338   339             Michel Nehme       15   878.638407\n",
       "339   340               Tangya Tan       14   790.420395\n",
       "\n",
       "[340 rows x 4 columns]"
      ]
     },
     "execution_count": 454,
     "metadata": {},
     "output_type": "execute_result"
    }
   ],
   "source": [
    "rates"
   ]
  },
  {
   "cell_type": "code",
   "execution_count": 452,
   "id": "208cf135-8d8c-4f47-8d75-733d2cbc69d4",
   "metadata": {},
   "outputs": [
    {
     "data": {
      "text/html": [
       "<div>\n",
       "<style scoped>\n",
       "    .dataframe tbody tr th:only-of-type {\n",
       "        vertical-align: middle;\n",
       "    }\n",
       "\n",
       "    .dataframe tbody tr th {\n",
       "        vertical-align: top;\n",
       "    }\n",
       "\n",
       "    .dataframe thead th {\n",
       "        text-align: right;\n",
       "    }\n",
       "</style>\n",
       "<table border=\"1\" class=\"dataframe\">\n",
       "  <thead>\n",
       "    <tr style=\"text-align: right;\">\n",
       "      <th></th>\n",
       "      <th>rank</th>\n",
       "      <th>player_id</th>\n",
       "      <th>n_games</th>\n",
       "      <th>rating</th>\n",
       "    </tr>\n",
       "  </thead>\n",
       "  <tbody>\n",
       "    <tr>\n",
       "      <th>120</th>\n",
       "      <td>121</td>\n",
       "      <td>Griffin Badalamente</td>\n",
       "      <td>5</td>\n",
       "      <td>1020.529098</td>\n",
       "    </tr>\n",
       "  </tbody>\n",
       "</table>\n",
       "</div>"
      ],
      "text/plain": [
       "     rank            player_id  n_games       rating\n",
       "120   121  Griffin Badalamente        5  1020.529098"
      ]
     },
     "execution_count": 452,
     "metadata": {},
     "output_type": "execute_result"
    }
   ],
   "source": [
    "rates[rates.player_id.str.contains(\"Gri\")]"
   ]
  },
  {
   "cell_type": "code",
   "execution_count": 453,
   "id": "0b4d51b4-4924-41a0-b406-c4fd7dd07df3",
   "metadata": {},
   "outputs": [],
   "source": [
    "td = read_tab('./all_tabs/brandeis tab cards.pdf')\n"
   ]
  },
  {
   "cell_type": "code",
   "execution_count": 254,
   "id": "e15dcaa9-724f-4171-8540-c4bd712eec18",
   "metadata": {
    "tags": []
   },
   "outputs": [
    {
     "name": "stdout",
     "output_type": "stream",
     "text": [
      "Brown Space Grails (Brown) Ann\n",
      "Y ale SB (Y ale)Shreeya\n"
     ]
    }
   ],
   "source": [
    "team_names_dic = {}\n",
    "name_ranks_dic = {}\n",
    "n_rounds = 0\n",
    "tname = 'old'\n",
    "for i in list(td.keys()):\n",
    "    test = td[i]\n",
    "    if 'old' in tname:\n",
    "        test.columns = list(test.columns[:3])+list(test.iloc[0])[3:]\n",
    "        if all(pd.Series(list(test[test.columns[6]])[1:6]).isnull()):\n",
    "            continue\n",
    "        test.columns=[test.columns[x] for x in [0,4,4,3,4,4,1,2,7]]\n",
    "        test.drop(0,inplace=True)\n",
    "        test.dropna(axis=1, how='all', inplace=True)\n",
    "        print(i)\n",
    "        i = i[0:i.find('(')]\n",
    "    else:\n",
    "        test = test[test.columns[~test.columns.str.contains('Unnamed')]]\n",
    "    p1 = test.columns[5]\n",
    "    p1_name = p1[:-4]\n",
    "    p1_age = p1[-2:-1]\n",
    "    p1_name = p1_name.replace('\\r', ' ')\n",
    "    p1_first = p1_name.split(\" \")[0]\n",
    "    p1_second = ''.join(p1_name.split(\" \")[1:])\n",
    "    p1_ranks = [eval(x)[1] for x in list(test[p1].fillna('(-1,99)'))[:-1]]\n",
    "\n",
    "    p2 = test.columns[6]\n",
    "    p2_name = p2[:-4]\n",
    "    p2_age = p2[-2:-1]\n",
    "    p2_name = p2_name.replace('\\r', ' ')\n",
    "    p2_first = p2_name.split(\" \")[0]\n",
    "    p2_second = ''.join(p2_name.split(\" \")[1:])\n",
    "\n",
    "    p2_ranks = [eval(x)[1] for x in list(test[p2].fillna('(-1,99)'))[:-1]]\n",
    "    i = sanitize(i)\n",
    "    team_names_dic[i] = (p1_first+' '+p1_second, p2_first+' '+p2_second)\n",
    "    name_ranks_dic[p1_first+' '+p1_second] = p1_ranks\n",
    "    name_ranks_dic[p2_first+' '+p2_second] = p2_ranks\n",
    "n_rounds = np.median([len(x) for x in list(name_ranks_dic.values())])"
   ]
  },
  {
   "cell_type": "code",
   "execution_count": 257,
   "id": "6142b4bf-55e7-4ef1-b242-8de71d897781",
   "metadata": {},
   "outputs": [
    {
     "data": {
      "text/plain": [
       "1"
      ]
     },
     "execution_count": 257,
     "metadata": {},
     "output_type": "execute_result"
    }
   ],
   "source": [
    "'abc'.find('b')"
   ]
  },
  {
   "cell_type": "code",
   "execution_count": 256,
   "id": "dd7362af-ab47-422c-a1a3-871e7a37a372",
   "metadata": {},
   "outputs": [
    {
     "data": {
      "text/plain": [
       "dict_keys(['Brown Space Grails (Brown) Ann', 'Brown LP (Brown)Anagha Lokhande', 'Brown Holy Grail (Brown)Elaine He', 'Brown Unholy Grail (Brown)Michael', 'Y ale PF (Y ale)Lorenzo', 'Y ale KS (Y ale)Jack', 'Y ale SS (Y ale) Arun', 'Y ale WM (Y ale)Michael', 'Y ale SB (Y ale)Shreeya', 'Y ale SA (Y ale)Xavier', 'Harvard Finance Bros (Harvard) Tejal', 'Harvard BBC (Harvard)Aditya', 'Harvard LO (Harvard) Romina', 'BU Problematic Memez (BU) Ian', 'NU/Deis Angriest Orchard (NU)Dennis Su', 'Greendale A (Brandeis)Roy Lee', 'Mr . PB and Princess Carolyn (Brandeis)Noam', 'Brandeis Sex Whistles (Brandeis)Sagie', 'BSD (Brandeis)Jackson', 'Atletico Brandeis (Brandeis)Arman', 'Brandeis Jolkien RR T olkien (Brandeis) Shira', 'Brandeis Snu Snu Gang (Brandeis) Ryan', 'Brandeis QD (Brandeis)Winnie Qin'])"
      ]
     },
     "execution_count": 256,
     "metadata": {},
     "output_type": "execute_result"
    }
   ],
   "source": [
    "td.keys()"
   ]
  },
  {
   "cell_type": "code",
   "execution_count": 248,
   "id": "2ed04417-70f8-43c2-b4ae-6bb9f7600177",
   "metadata": {
    "tags": []
   },
   "outputs": [],
   "source": [
    "rounds = []\n",
    "for i in list(td.keys()):\n",
    "    #print(i)\n",
    "    test = td[i]\n",
    "    oppos = test[test.columns[3]].dropna()[:-1]\n",
    "    #test = test[test.columns[~test.columns.str.contains('Unnamed')]]\n",
    "    if len(oppos)==n_rounds:\n",
    "        #print(oppos)\n",
    "        #print(oppos)\n",
    "        oppos = [sanitize(x) for x in oppos]\n",
    "        unq_rounds = [(i,x) for x in oppos if (x,i) not in rounds]\n",
    "        rounds+= unq_rounds"
   ]
  },
  {
   "cell_type": "code",
   "execution_count": 235,
   "id": "41dad36e-9eba-4a8a-b590-142f6cfa9c10",
   "metadata": {},
   "outputs": [
    {
     "ename": "KeyError",
     "evalue": "'Harvard Finance Bros'",
     "output_type": "error",
     "traceback": [
      "\u001b[0;31m---------------------------------------------------------------------------\u001b[0m",
      "\u001b[0;31mKeyError\u001b[0m                                  Traceback (most recent call last)",
      "Cell \u001b[0;32mIn[235], line 13\u001b[0m\n\u001b[1;32m     11\u001b[0m     date_list\u001b[38;5;241m.\u001b[39mappend(rd)\n\u001b[1;32m     12\u001b[0m     \u001b[38;5;66;03m#print(r[1])\u001b[39;00m\n\u001b[0;32m---> 13\u001b[0m     debaters \u001b[38;5;241m=\u001b[39m np\u001b[38;5;241m.\u001b[39mappend(team_names_dic[r[\u001b[38;5;241m0\u001b[39m]], \u001b[43mteam_names_dic\u001b[49m\u001b[43m[\u001b[49m\u001b[43mr\u001b[49m\u001b[43m[\u001b[49m\u001b[38;5;241;43m1\u001b[39;49m\u001b[43m]\u001b[49m\u001b[43m]\u001b[49m)\n\u001b[1;32m     14\u001b[0m \u001b[38;5;66;03m#     try:\u001b[39;00m\n\u001b[1;32m     15\u001b[0m \u001b[38;5;66;03m#         debaters = np.append(team_names_dic[r[0]], team_names_dic[r[1]])\u001b[39;00m\n\u001b[1;32m     16\u001b[0m \u001b[38;5;66;03m#     except:\u001b[39;00m\n\u001b[0;32m   (...)\u001b[0m\n\u001b[1;32m     31\u001b[0m \u001b[38;5;66;03m#         debaters = np.append(team_names_dic[r[0]], team_names_dic[r[1]])\u001b[39;00m\n\u001b[1;32m     32\u001b[0m     \u001b[38;5;66;03m#print(debaters)\u001b[39;00m\n\u001b[1;32m     33\u001b[0m     ranks \u001b[38;5;241m=\u001b[39m [name_ranks_dic[x][rd\u001b[38;5;241m-\u001b[39m\u001b[38;5;241m1\u001b[39m] \u001b[38;5;28;01mfor\u001b[39;00m x \u001b[38;5;129;01min\u001b[39;00m debaters]\n",
      "\u001b[0;31mKeyError\u001b[0m: 'Harvard Finance Bros'"
     ]
    }
   ],
   "source": [
    "ranks_df = pd.DataFrame(columns=['date', '1st', '2nd', '3rd', '4th'])\n",
    "date_list = []\n",
    "rank_names = []\n",
    "date_dic = dict(zip(np.unique(rounds), [0]*len(np.unique(rounds))))\n",
    "bad_count = 0\n",
    "for r in rounds:\n",
    "    #print(repr(r))\n",
    "    date_dic[r[0]]+=1\n",
    "    date_dic[r[1]]+=1\n",
    "    rd = max(date_dic[r[0]], date_dic[r[1]])\n",
    "    date_list.append(rd)\n",
    "    #print(r[1])\n",
    "    debaters = np.append(team_names_dic[r[0]], team_names_dic[r[1]])\n",
    "#     try:\n",
    "#         debaters = np.append(team_names_dic[r[0]], team_names_dic[r[1]])\n",
    "#     except:\n",
    "#         try:\n",
    "#             team_names_dic[r[0]]\n",
    "#         except:\n",
    "#             team_names_dic[r[0]] = ('temp_a'+str(bad_count), 'temp_b'+str(bad_count))\n",
    "#             name_ranks_dic['temp_a'+str(bad_count)]=[99]*int(n_rounds)\n",
    "#             name_ranks_dic['temp_b'+str(bad_count)]=[99]*int(n_rounds)\n",
    "#             bad_count+=1\n",
    "#         try:\n",
    "#             team_names_dic[r[1]]\n",
    "#         except:\n",
    "#             team_names_dic[r[1]] = ('temp_a'+str(bad_count), 'temp_b'+str(bad_count))\n",
    "#             name_ranks_dic['temp_a'+str(bad_count)]=[99]*int(n_rounds)\n",
    "#             name_ranks_dic['temp_b'+str(bad_count)]=[99]*int(n_rounds)\n",
    "#             bad_count+=1\n",
    "#         debaters = np.append(team_names_dic[r[0]], team_names_dic[r[1]])\n",
    "    #print(debaters)\n",
    "    ranks = [name_ranks_dic[x][rd-1] for x in debaters]\n",
    "    deb_in_rank = [x for _, x in sorted(zip(ranks, debaters))]\n",
    "    rank_names.append(deb_in_rank)\n",
    "ranks_df.date=date_list\n",
    "ranks_df[ranks_df.columns[1:]]=rank_names"
   ]
  },
  {
   "cell_type": "code",
   "execution_count": 180,
   "id": "f53c738e-d7df-4c23-a8ef-28e782dce36e",
   "metadata": {},
   "outputs": [],
   "source": [
    "tracker = Tracker()\n",
    "tracker.process_data(ranks_df)"
   ]
  },
  {
   "cell_type": "code",
   "execution_count": 181,
   "id": "aa949a91-671b-4ae9-818b-7bf45d9a212d",
   "metadata": {},
   "outputs": [],
   "source": [
    "rates = tracker.get_current_ratings()"
   ]
  },
  {
   "cell_type": "code",
   "execution_count": 186,
   "id": "fd0c6e5e-1c82-4b1f-a643-e447f70eaea7",
   "metadata": {},
   "outputs": [
    {
     "data": {
      "text/html": [
       "<div>\n",
       "<style scoped>\n",
       "    .dataframe tbody tr th:only-of-type {\n",
       "        vertical-align: middle;\n",
       "    }\n",
       "\n",
       "    .dataframe tbody tr th {\n",
       "        vertical-align: top;\n",
       "    }\n",
       "\n",
       "    .dataframe thead th {\n",
       "        text-align: right;\n",
       "    }\n",
       "</style>\n",
       "<table border=\"1\" class=\"dataframe\">\n",
       "  <thead>\n",
       "    <tr style=\"text-align: right;\">\n",
       "      <th></th>\n",
       "      <th>rank</th>\n",
       "      <th>player_id</th>\n",
       "      <th>n_games</th>\n",
       "      <th>rating</th>\n",
       "    </tr>\n",
       "  </thead>\n",
       "  <tbody>\n",
       "    <tr>\n",
       "      <th>0</th>\n",
       "      <td>1</td>\n",
       "      <td>Catherine Wang</td>\n",
       "      <td>5</td>\n",
       "      <td>1100.477769</td>\n",
       "    </tr>\n",
       "    <tr>\n",
       "      <th>1</th>\n",
       "      <td>2</td>\n",
       "      <td>An LanhLe</td>\n",
       "      <td>5</td>\n",
       "      <td>1091.547856</td>\n",
       "    </tr>\n",
       "    <tr>\n",
       "      <th>2</th>\n",
       "      <td>3</td>\n",
       "      <td>Ethan Liu</td>\n",
       "      <td>5</td>\n",
       "      <td>1091.214851</td>\n",
       "    </tr>\n",
       "    <tr>\n",
       "      <th>3</th>\n",
       "      <td>4</td>\n",
       "      <td>Anish Welde</td>\n",
       "      <td>5</td>\n",
       "      <td>1090.764300</td>\n",
       "    </tr>\n",
       "    <tr>\n",
       "      <th>4</th>\n",
       "      <td>5</td>\n",
       "      <td>Albi Manfredi</td>\n",
       "      <td>5</td>\n",
       "      <td>1089.358917</td>\n",
       "    </tr>\n",
       "    <tr>\n",
       "      <th>...</th>\n",
       "      <td>...</td>\n",
       "      <td>...</td>\n",
       "      <td>...</td>\n",
       "      <td>...</td>\n",
       "    </tr>\n",
       "    <tr>\n",
       "      <th>127</th>\n",
       "      <td>128</td>\n",
       "      <td>Zoe Rose</td>\n",
       "      <td>5</td>\n",
       "      <td>910.254572</td>\n",
       "    </tr>\n",
       "    <tr>\n",
       "      <th>128</th>\n",
       "      <td>129</td>\n",
       "      <td>Julia Cunningham</td>\n",
       "      <td>5</td>\n",
       "      <td>910.237936</td>\n",
       "    </tr>\n",
       "    <tr>\n",
       "      <th>129</th>\n",
       "      <td>130</td>\n",
       "      <td>Phuong AnhNguyenLe(Kem)</td>\n",
       "      <td>5</td>\n",
       "      <td>908.684884</td>\n",
       "    </tr>\n",
       "    <tr>\n",
       "      <th>130</th>\n",
       "      <td>131</td>\n",
       "      <td>Jacob Sher</td>\n",
       "      <td>5</td>\n",
       "      <td>901.862093</td>\n",
       "    </tr>\n",
       "    <tr>\n",
       "      <th>131</th>\n",
       "      <td>132</td>\n",
       "      <td>Anantha Kashibatla</td>\n",
       "      <td>5</td>\n",
       "      <td>894.858376</td>\n",
       "    </tr>\n",
       "  </tbody>\n",
       "</table>\n",
       "<p>132 rows × 4 columns</p>\n",
       "</div>"
      ],
      "text/plain": [
       "     rank                player_id  n_games       rating\n",
       "0       1           Catherine Wang        5  1100.477769\n",
       "1       2                An LanhLe        5  1091.547856\n",
       "2       3                Ethan Liu        5  1091.214851\n",
       "3       4              Anish Welde        5  1090.764300\n",
       "4       5            Albi Manfredi        5  1089.358917\n",
       "..    ...                      ...      ...          ...\n",
       "127   128                 Zoe Rose        5   910.254572\n",
       "128   129         Julia Cunningham        5   910.237936\n",
       "129   130  Phuong AnhNguyenLe(Kem)        5   908.684884\n",
       "130   131               Jacob Sher        5   901.862093\n",
       "131   132       Anantha Kashibatla        5   894.858376\n",
       "\n",
       "[132 rows x 4 columns]"
      ]
     },
     "execution_count": 186,
     "metadata": {},
     "output_type": "execute_result"
    }
   ],
   "source": [
    "rates"
   ]
  }
 ],
 "metadata": {
  "kernelspec": {
   "display_name": "Python 3 (ipykernel)",
   "language": "python",
   "name": "python3"
  },
  "language_info": {
   "codemirror_mode": {
    "name": "ipython",
    "version": 3
   },
   "file_extension": ".py",
   "mimetype": "text/x-python",
   "name": "python",
   "nbconvert_exporter": "python",
   "pygments_lexer": "ipython3",
   "version": "3.9.7"
  }
 },
 "nbformat": 4,
 "nbformat_minor": 5
}
